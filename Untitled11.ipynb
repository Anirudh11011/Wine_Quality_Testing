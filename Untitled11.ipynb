import pandas as pd
import matplotlib.pyplot as plt
import seaborn as sns
from sklearn.ensemble import RandomForestClassifier
from sklearn.model_selection import train_test_split, GridSearchCV, StratifiedKFold
from sklearn.metrics import accuracy_score, confusion_matrix
from sklearn.cluster import KMeans
from sklearn.preprocessing import StandardScaler
from sklearn.decomposition import PCA

data = pd.read_csv("wine_data.csv")
X = data.drop("quality", axis=1)
y = data["quality"]


scaler = StandardScaler()
X_scaled = scaler.fit_transform(X)

# Applying K-Means Clustering
kmeans = KMeans(n_clusters=5, random_state=0, n_init='auto')
X['cluster'] = kmeans.fit_predict(X_scaled)

# Visualization 1: PCA Scatter Plot
pca = PCA(n_components=2)
X_pca = pca.fit_transform(X_scaled)

plt.figure(figsize=(8,6))
sns.scatterplot(x=X_pca[:,0], y=X_pca[:,1], hue=kmeans.labels_, palette='tab10')
plt.title('K-Means Clustering Visualized in 2D via PCA')
plt.xlabel('Principal Component 1')
plt.ylabel('Principal Component 2')
plt.legend(title='Cluster')
plt.show()

# Visualization 2: Cluster vs Quality Distribution
X_with_labels = pd.DataFrame(X_scaled, columns=X.columns[:-1])
X_with_labels['cluster'] = kmeans.labels_
X_with_labels['quality'] = y.values

plt.figure(figsize=(8,6))
sns.countplot(data=X_with_labels, x='cluster', hue='quality')
plt.title('Wine Quality Distribution per Cluster')
plt.xlabel('Cluster')
plt.ylabel('Count')
plt.legend(title='Quality')
plt.show()


X_train, X_val, y_train, y_val = train_test_split(
    X, y, test_size=0.2, random_state=0, stratify=y
)

# GridSearchCV for Random Forest
param_grid = {
    'n_estimators': [100, 200, 300],
    'max_depth': [5, 10, 20],
    'min_samples_split': [5, 10],
    'min_samples_leaf': [5, 10]
}

cv = StratifiedKFold(n_splits=5, shuffle=True, random_state=0)

grid_search = GridSearchCV(
    estimator=RandomForestClassifier(random_state=0),
    param_grid=param_grid,
    cv=cv,
    scoring='accuracy',
    n_jobs=-1,
    verbose=1
)

grid_search.fit(X_train, y_train)

print("\nBest parameters found:", grid_search.best_params_)

best_rf = grid_search.best_estimator_

y_train_pred = best_rf.predict(X_train)
y_val_pred = best_rf.predict(X_val)

train_acc = accuracy_score(y_train, y_train_pred)
val_acc = accuracy_score(y_val, y_val_pred)

print(f"\nTraining Accuracy: {train_acc:.4f}")
print("Training Confusion Matrix:\n", confusion_matrix(y_train, y_train_pred))
print(f"\nValidation Accuracy: {val_acc:.4f}")
print("Validation Confusion Matrix:\n", confusion_matrix(y_val, y_val_pred))

print("Implementation of RandomForestClassifier")


# Use the same data and cluster label
X = data.drop("quality", axis=1)
X_scaled = scaler.fit_transform(X)
X['cluster'] = kmeans.fit_predict(X_scaled)

X_train, X_val, y_train, y_val = train_test_split(
    X, y, test_size=0.2, stratify=y, random_state=0
)

# Task 1: Basic Training
rf = RandomForestClassifier(
    n_estimators=300,
    max_depth=10,
    min_samples_leaf=5,
    min_samples_split=5,
    random_state=0
)
rf.fit(X_train, y_train)

y_train_pred = rf.predict(X_train)
train_acc = accuracy_score(y_train, y_train_pred)
train_cm = confusion_matrix(y_train, y_train_pred)

y_val_pred = rf.predict(X_val)
val_acc = accuracy_score(y_val, y_val_pred)
val_cm = confusion_matrix(y_val, y_val_pred)

print("Task 1: Train-Test Split Results")
print(f"Training Accuracy: {train_acc:.4f}")
print("Training Confusion Matrix:\n", train_cm)
print(f"Validation Accuracy: {val_acc:.4f}")
print("Validation Confusion Matrix:\n", val_cm)

# Task 2: Test on held-out set

dummy = pd.read_csv("wine_data_test.csv")
X_dummy = dummy.drop("quality", axis=1)
y_dummy = dummy["quality"]

X_dummy_scaled = scaler.transform(X_dummy)
X_dummy['cluster'] = kmeans.predict(X_dummy_scaled)

y_dummy_pred = rf.predict(X_dummy)
dummy_acc = accuracy_score(y_dummy, y_dummy_pred)
dummy_cm = confusion_matrix(y_dummy, y_dummy_pred)

print("\nTask 2: Dummy Test Set Results")
print(f"Dummy Test Accuracy: {dummy_acc:.4f}")
print("Dummy Test Confusion Matrix:\n", dummy_cm)

# Task 3: 10-Fold Cross-Validation
skf = StratifiedKFold(n_splits=10, shuffle=True, random_state=0)
cv_accuracies = []

print("\nTask 3: 10-Fold Stratified Cross-Validation Results")
for i, (train_idx, test_idx) in enumerate(skf.split(X, y), start=1):
    X_fold_train, X_fold_test = X.iloc[train_idx], X.iloc[test_idx]
    y_fold_train, y_fold_test = y.iloc[train_idx], y.iloc[test_idx]

    rf_cv = RandomForestClassifier(
        n_estimators=300,
        max_depth=10,
        min_samples_leaf=5,
        min_samples_split=5,
        random_state=0
    )
    rf_cv.fit(X_fold_train, y_fold_train)
    y_fold_pred = rf_cv.predict(X_fold_test)
    acc = accuracy_score(y_fold_test, y_fold_pred)
    cv_accuracies.append(acc)
    print(f"Fold {i} Accuracy: {acc:.4f}")

print(f"Average Cross-Validation Accuracy: {sum(cv_accuracies) / len(cv_accuracies):.4f}")
