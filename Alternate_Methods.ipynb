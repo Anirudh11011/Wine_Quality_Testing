{
  "nbformat": 4,
  "nbformat_minor": 0,
  "metadata": {
    "colab": {
      "provenance": [],
      "gpuType": "T4"
    },
    "kernelspec": {
      "name": "python3",
      "display_name": "Python 3"
    },
    "language_info": {
      "name": "python"
    }
  },
  "cells": [
    {
      "cell_type": "markdown",
      "source": [
        "# **Classification Using Decision Tree**"
      ],
      "metadata": {
        "id": "CEB0v1W9Q25j"
      }
    },
    {
      "cell_type": "code",
      "source": [
        "import pandas as pd\n",
        "from sklearn.model_selection import train_test_split, StratifiedKFold\n",
        "from sklearn.tree import DecisionTreeClassifier\n",
        "from sklearn.metrics import accuracy_score, confusion_matrix\n",
        "\n",
        "\n",
        "data = pd.read_csv(\"wine_data.csv\")\n",
        "\n",
        "\n",
        "X = data.drop(\"quality\", axis=1)\n",
        "y = data[\"quality\"]\n",
        "\n",
        "X_train, X_val, y_train, y_val = train_test_split(X, y, test_size=0.2, random_state=0, stratify=y)"
      ],
      "metadata": {
        "id": "Jjxri_RDnD7K"
      },
      "execution_count": 33,
      "outputs": []
    },
    {
      "cell_type": "code",
      "execution_count": 34,
      "metadata": {
        "colab": {
          "base_uri": "https://localhost:8080/"
        },
        "id": "63WB_PjaidP1",
        "outputId": "e599c95f-bc44-4c02-b4d4-69767b83538b"
      },
      "outputs": [
        {
          "output_type": "stream",
          "name": "stdout",
          "text": [
            "Task 1: Train-Test Split Results\n",
            "Training Accuracy: 0.7967\n",
            "Training Confusion Matrix:\n",
            " [[417  93]\n",
            " [128 449]]\n",
            "Validation Accuracy: 0.7279\n",
            "Validation Confusion Matrix:\n",
            " [[ 92  36]\n",
            " [ 38 106]]\n"
          ]
        }
      ],
      "source": [
        "clf = DecisionTreeClassifier(\n",
        "    max_depth=10,\n",
        "    min_samples_split=5,\n",
        "    min_samples_leaf=20,\n",
        "    random_state=0\n",
        ")\n",
        "\n",
        "\n",
        "clf.fit(X_train, y_train)\n",
        "\n",
        "\n",
        "y_train_pred = clf.predict(X_train)\n",
        "y_val_pred = clf.predict(X_val)\n",
        "\n",
        "\n",
        "train_accuracy = accuracy_score(y_train, y_train_pred)\n",
        "val_accuracy = accuracy_score(y_val, y_val_pred)\n",
        "\n",
        "\n",
        "train_cm = confusion_matrix(y_train, y_train_pred)\n",
        "val_cm = confusion_matrix(y_val, y_val_pred)\n",
        "\n",
        "print(\"Task 1: Train-Test Split Results\")\n",
        "print(f\"Training Accuracy: {train_accuracy:.4f}\")\n",
        "print(\"Training Confusion Matrix:\\n\", train_cm)\n",
        "print(f\"Validation Accuracy: {val_accuracy:.4f}\")\n",
        "print(\"Validation Confusion Matrix:\\n\", val_cm)\n",
        "\n",
        "\n",
        "\n"
      ]
    },
    {
      "cell_type": "code",
      "source": [
        "\n",
        "dummy_test = pd.read_csv(\"wine_data_test.csv\")\n",
        "X_dummy_test = dummy_test.drop(\"quality\", axis=1)\n",
        "y_dummy_test = dummy_test[\"quality\"]\n",
        "\n",
        "y_dummy_pred = clf.predict(X_dummy_test)\n",
        "\n",
        "dummy_accuracy = accuracy_score(y_dummy_test, y_dummy_pred)\n",
        "dummy_cm = confusion_matrix(y_dummy_test, y_dummy_pred)\n",
        "\n",
        "print(\"\\nTask 2: Dummy Test Set Results\")\n",
        "print(f\"Dummy Test Accuracy: {dummy_accuracy:.4f}\")\n",
        "print(\"Dummy Test Confusion Matrix:\\n\", dummy_cm)\n"
      ],
      "metadata": {
        "colab": {
          "base_uri": "https://localhost:8080/"
        },
        "id": "iRQtvjUSnNcn",
        "outputId": "24d1383f-9f69-45c5-a84a-4084186bf27d"
      },
      "execution_count": 35,
      "outputs": [
        {
          "output_type": "stream",
          "name": "stdout",
          "text": [
            "\n",
            "Task 2: Dummy Test Set Results\n",
            "Dummy Test Accuracy: 0.7800\n",
            "Dummy Test Confusion Matrix:\n",
            " [[36 12]\n",
            " [10 42]]\n"
          ]
        }
      ]
    },
    {
      "cell_type": "code",
      "source": [
        "\n",
        "skf = StratifiedKFold(n_splits=10, shuffle=True, random_state=0)\n",
        "fold_accuracies = []\n",
        "\n",
        "print(\"\\nTask 3: 10-Fold Stratified Cross-Validation Results\")\n",
        "for i, (train_index, test_index) in enumerate(skf.split(X, y), 1):\n",
        "    X_train_fold, X_test_fold = X.iloc[train_index], X.iloc[test_index]\n",
        "    y_train_fold, y_test_fold = y.iloc[train_index], y.iloc[test_index]\n",
        "\n",
        "    clf_cv = clf = DecisionTreeClassifier(\n",
        "    max_depth=10,\n",
        "    min_samples_split=5,\n",
        "    min_samples_leaf=20,\n",
        "    random_state=0\n",
        ")\n",
        "    clf_cv.fit(X_train_fold, y_train_fold)\n",
        "    y_pred_fold = clf_cv.predict(X_test_fold)\n",
        "    acc = accuracy_score(y_test_fold, y_pred_fold)\n",
        "    fold_accuracies.append(acc)\n",
        "    print(f\"Fold {i} Accuracy: {acc:.4f}\")\n",
        "\n",
        "print(f\"Average Cross-Validation Accuracy: {sum(fold_accuracies)/len(fold_accuracies):.4f}\")"
      ],
      "metadata": {
        "colab": {
          "base_uri": "https://localhost:8080/"
        },
        "id": "Kj78-aUPnPIx",
        "outputId": "1fe15041-d625-420f-d436-aaca757ddcfa"
      },
      "execution_count": 36,
      "outputs": [
        {
          "output_type": "stream",
          "name": "stdout",
          "text": [
            "\n",
            "Task 3: 10-Fold Stratified Cross-Validation Results\n",
            "Fold 1 Accuracy: 0.6838\n",
            "Fold 2 Accuracy: 0.7132\n",
            "Fold 3 Accuracy: 0.7794\n",
            "Fold 4 Accuracy: 0.6765\n",
            "Fold 5 Accuracy: 0.7941\n",
            "Fold 6 Accuracy: 0.7132\n",
            "Fold 7 Accuracy: 0.7132\n",
            "Fold 8 Accuracy: 0.7206\n",
            "Fold 9 Accuracy: 0.6471\n",
            "Fold 10 Accuracy: 0.6963\n",
            "Average Cross-Validation Accuracy: 0.7137\n"
          ]
        }
      ]
    },
    {
      "cell_type": "markdown",
      "source": [
        "# **Classification Using SVM**"
      ],
      "metadata": {
        "id": "msiOV8keRPdJ"
      }
    },
    {
      "cell_type": "code",
      "source": [
        "from sklearn.svm import SVC\n",
        "import pandas as pd\n",
        "from sklearn.model_selection import train_test_split, cross_val_score, StratifiedKFold\n",
        "from sklearn.tree import DecisionTreeClassifier\n",
        "from sklearn.metrics import accuracy_score, confusion_matrix\n",
        "\n",
        "\n",
        "data = pd.read_csv(\"wine_data.csv\")\n",
        "\n",
        "\n",
        "X = data.drop(\"quality\", axis=1)\n",
        "y = data[\"quality\"]\n",
        "\n",
        "X_train, X_val, y_train, y_val = train_test_split(X, y, test_size=0.2, random_state=0, stratify=y)\n",
        "model = SVC(kernel='linear', random_state=0)\n",
        "\n",
        "\n",
        "\n",
        "model.fit(X_train, y_train)\n",
        "\n",
        "\n",
        "print(\"Training Accuracy:\", accuracy_score(y_train, model.predict(X_train)))\n",
        "print(\"Training Confusion Matrix:\\n\", confusion_matrix(y_train, model.predict(X_train)))\n",
        "\n",
        "print(\"\\nValidation Accuracy:\", accuracy_score(y_val, model.predict(X_val)))\n",
        "print(\"Validation Confusion Matrix:\\n\", confusion_matrix(y_val, model.predict(X_val)))\n",
        "\n",
        "\n",
        "test_data = pd.read_csv(\"wine_data_test.csv\")\n",
        "X_test = test_data.drop(\"quality\", axis=1)\n",
        "y_test = test_data[\"quality\"]\n",
        "\n",
        "print(\"\\nTest Accuracy:\", accuracy_score(y_test, model.predict(X_test)))\n",
        "print(\"Test Confusion Matrix:\\n\", confusion_matrix(y_test, model.predict(X_test)))\n",
        "\n",
        "\n",
        "cv = StratifiedKFold(n_splits=10, shuffle=True, random_state=0)\n",
        "cv_scores = cross_val_score(model, X, y, cv=cv)\n",
        "\n",
        "print(\"\\nCross-validation scores:\", cv_scores)\n",
        "print(\"Average cross-validation accuracy:\", cv_scores.mean())"
      ],
      "metadata": {
        "colab": {
          "base_uri": "https://localhost:8080/"
        },
        "id": "8mXgKe2_RO1v",
        "outputId": "d2b96b00-5a18-42ef-96ac-d2ff37760548"
      },
      "execution_count": 32,
      "outputs": [
        {
          "output_type": "stream",
          "name": "stdout",
          "text": [
            "Training Accuracy: 0.7460901563937442\n",
            "Training Confusion Matrix:\n",
            " [[392 118]\n",
            " [158 419]]\n",
            "\n",
            "Validation Accuracy: 0.6838235294117647\n",
            "Validation Confusion Matrix:\n",
            " [[87 41]\n",
            " [45 99]]\n",
            "\n",
            "Test Accuracy: 0.75\n",
            "Test Confusion Matrix:\n",
            " [[36 12]\n",
            " [13 39]]\n",
            "\n",
            "Cross-validation scores: [0.69117647 0.70588235 0.78676471 0.69852941 0.77941176 0.70588235\n",
            " 0.77205882 0.69117647 0.69852941 0.71111111]\n",
            "Average cross-validation accuracy: 0.7240522875816994\n"
          ]
        }
      ]
    }
  ]
}